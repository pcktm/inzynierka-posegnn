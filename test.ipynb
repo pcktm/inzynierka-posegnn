{
 "cells": [
  {
   "cell_type": "code",
   "execution_count": 1,
   "metadata": {},
   "outputs": [],
   "source": [
    "import os\n",
    "from dataset import (\n",
    "    KittiGraphDataset,\n",
    "    MultipleSequenceGraphDataset,\n",
    "    KittiSequenceDataset,\n",
    ")\n",
    "from torch_geometric.loader import DataLoader\n",
    "from scipy.spatial.transform import Rotation as R\n",
    "import torch\n",
    "from tqdm import tqdm\n",
    "from model import PoseGNN, PoseLoss\n",
    "import time\n",
    "import matplotlib.pyplot as plt\n",
    "import numpy as np\n",
    "import cv2"
   ]
  },
  {
   "cell_type": "code",
   "execution_count": 2,
   "metadata": {},
   "outputs": [],
   "source": [
    "device = torch.device(\"cuda\" if torch.cuda.is_available() else \"cpu\")\n",
    "basedir = \"/home/pcktm/inzynierka/kitti/dataset\""
   ]
  },
  {
   "cell_type": "code",
   "execution_count": 3,
   "metadata": {},
   "outputs": [],
   "source": [
    "test_dataset = KittiGraphDataset(basedir, \"09\")\n",
    "test_dataloader = DataLoader(test_dataset, batch_size=1, shuffle=False)"
   ]
  },
  {
   "cell_type": "code",
   "execution_count": 5,
   "metadata": {},
   "outputs": [
    {
     "data": {
      "text/plain": [
       "PoseGNN(\n",
       "  (conv1): GraphConv(2048, 256)\n",
       "  (conv2): GraphConv(256, 128)\n",
       "  (conv3): GraphConv(128, 64)\n",
       "  (position): Linear(in_features=64, out_features=3, bias=True)\n",
       "  (orientation): Linear(in_features=64, out_features=4, bias=True)\n",
       ")"
      ]
     },
     "execution_count": 5,
     "metadata": {},
     "output_type": "execute_result"
    }
   ],
   "source": [
    "checkpoint = torch.load(\"./models/model_A_140.pth\")\n",
    "\n",
    "model = PoseGNN()\n",
    "model.load_state_dict(checkpoint)\n",
    "model.to(device)"
   ]
  },
  {
   "cell_type": "code",
   "execution_count": 33,
   "metadata": {},
   "outputs": [],
   "source": [
    "def odometry_predicted_poses(predictions):\n",
    "  \"\"\"\n",
    "  predictions: list of predictions\n",
    "\n",
    "  This function adds the predictions of shifts to the previous position and rotation, \n",
    "  returing the absolute position and rotation.\n",
    "  \"\"\"\n",
    "  world_positions = []\n",
    "  world_rotations = []\n",
    "\n",
    "  for i, prediction in enumerate(predictions):\n",
    "    if i == 0:\n",
    "      world_positions.append(prediction[\"position\"])\n",
    "      world_rotations.append(prediction[\"rotation\"])\n",
    "    else:\n",
    "      world_positions.append(world_positions[i-1] + prediction[\"position\"])\n",
    "      # now, rotations are in quaternion form so use appropriate function\n",
    "      world_rotations.append(world_rotations[i-1] * prediction[\"rotation\"])\n",
    "\n",
    "  # return [{\"position\": pos, \"rotation\": rot} for pos, rot in zip(world_positions, world_rotations)]\n",
    "  return [\n",
    "    {\n",
    "      \"position\": pos,\n",
    "      \"rotation\": rot.as_quat(),\n",
    "    }\n",
    "    for pos, rot in zip(world_positions, world_rotations)\n",
    "  ]"
   ]
  },
  {
   "cell_type": "code",
   "execution_count": 32,
   "metadata": {},
   "outputs": [],
   "source": [
    "def tensor_to_position_and_rotation(tensor):\n",
    "    pos = tensor[:3]\n",
    "    rot = tensor[3:]\n",
    "\n",
    "    rot = R.from_quat(rot)\n",
    "    return {\n",
    "        \"position\": pos,\n",
    "        \"rotation\": rot,\n",
    "    }"
   ]
  },
  {
   "cell_type": "code",
   "execution_count": 47,
   "metadata": {},
   "outputs": [
    {
     "name": "stderr",
     "output_type": "stream",
     "text": [
      "100%|██████████| 1586/1586 [00:03<00:00, 477.77it/s]\n"
     ]
    }
   ],
   "source": [
    "SELECTED_IDX = 4\n",
    "\n",
    "predicted_poses = []\n",
    "true_poses = []\n",
    "\n",
    "model.eval()\n",
    "\n",
    "with torch.no_grad():\n",
    "    for batch in tqdm(test_dataloader):\n",
    "        batch = batch.to(device)\n",
    "        output = model(batch)\n",
    "        predicted_poses.append(output.cpu().numpy()[SELECTED_IDX])\n",
    "        true_poses.append(batch.y.cpu().numpy()[SELECTED_IDX])"
   ]
  },
  {
   "cell_type": "code",
   "execution_count": 48,
   "metadata": {},
   "outputs": [],
   "source": [
    "predicted_poses_e = [tensor_to_position_and_rotation(pose) for pose in predicted_poses]\n",
    "true_poses_e = [tensor_to_position_and_rotation(pose) for pose in true_poses]"
   ]
  },
  {
   "cell_type": "code",
   "execution_count": 49,
   "metadata": {},
   "outputs": [
    {
     "data": {
      "text/plain": [
       "<matplotlib.image.AxesImage at 0x7f125a4c0590>"
      ]
     },
     "execution_count": 49,
     "metadata": {},
     "output_type": "execute_result"
    },
    {
     "data": {
      "image/png": "[encoded data removed]",
      "text/plain": [
       "<Figure size 640x480 with 1 Axes>"
      ]
     },
     "metadata": {},
     "output_type": "display_data"
    }
   ],
   "source": [
    "trajectory_image = np.zeros((2000, 1000, 3), dtype=np.uint8)\n",
    "trajectory_image.fill(255)\n",
    "\n",
    "predicted_world_poses = odometry_predicted_poses(predicted_poses_e)\n",
    "\n",
    "for i in range(len(predicted_world_poses)):\n",
    "    pos = predicted_world_poses[i][\"position\"]\n",
    "    x = int(pos[0]) + 500\n",
    "    y = int(pos[2]) + 300\n",
    "\n",
    "    gt_x = int(true_poses_e[i][\"position\"][0]) + 500\n",
    "    gt_y = int(true_poses_e[i][\"position\"][2]) + 300\n",
    "    \n",
    "    cv2.circle(trajectory_image, (x, y), 1, (0, 0, 255), 1)\n",
    "    cv2.circle(trajectory_image, (gt_x, gt_y), 1, (255, 0, 0), 1)\n",
    "\n",
    "trajectory_image = cv2.cvtColor(trajectory_image, cv2.COLOR_BGR2RGB)\n",
    "plt.imshow(trajectory_image)"
   ]
  }
 ],
 "metadata": {
  "kernelspec": {
   "display_name": "venv",
   "language": "python",
   "name": "python3"
  },
  "language_info": {
   "codemirror_mode": {
    "name": "ipython",
    "version": 3
   },
   "file_extension": ".py",
   "mimetype": "text/x-python",
   "name": "python",
   "nbconvert_exporter": "python",
   "pygments_lexer": "ipython3",
   "version": "3.11.5"
  }
 },
 "nbformat": 4,
 "nbformat_minor": 2
}
