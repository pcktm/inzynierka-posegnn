{
 "cells": [
  {
   "cell_type": "code",
   "execution_count": 1,
   "metadata": {
    "is_executing": true
   },
   "outputs": [],
   "source": [
    "import os\n",
    "from glob import glob\n",
    "from dataset import (\n",
    "    MultipleSequenceGraphDataset,\n",
    "    SequenceGraphDataset,\n",
    "    KittiSequenceDataset,\n",
    "    FourSeasonsSequenceDataset,\n",
    ")\n",
    "from torch_geometric.loader import DataLoader\n",
    "from scipy.spatial.transform import Rotation as R\n",
    "import torch\n",
    "from tqdm import tqdm\n",
    "import matplotlib.pyplot as plt\n",
    "import numpy as np"
   ]
  },
  {
   "cell_type": "code",
   "execution_count": 2,
   "metadata": {
    "is_executing": true
   },
   "outputs": [
    {
     "name": "stdout",
     "output_type": "stream",
     "text": [
      "Using device: cuda\n"
     ]
    }
   ],
   "source": [
    "os.makedirs(\"models\", exist_ok=True)\n",
    "device = torch.device(\"cuda\" if torch.cuda.is_available() else \"cpu\")\n",
    "\n",
    "print(\"Using device:\", device)"
   ]
  },
  {
   "cell_type": "code",
   "execution_count": 3,
   "metadata": {},
   "outputs": [],
   "source": [
    "basedir_kitti = \"/home/pcktm/inzynierka/kitti/dataset\"\n",
    "train_sequences_kitti = [\"00\", \"01\", \"02\", \"03\", \"04\", \"05\", \"06\", \"07\", \"08\"]\n",
    "\n",
    "basedir_4seasons = \"/home/pcktm/inzynierka/4seasons\"\n",
    "train_sequences_4se = [\"office_loop_3\", \"neighboorhood_6\"]"
   ]
  },
  {
   "cell_type": "code",
   "execution_count": 4,
   "metadata": {},
   "outputs": [],
   "source": [
    "from torch_geometric.utils import dropout_edge, dropout_node\n",
    "\n",
    "\n",
    "def normalize_position_to_first_and_dropout(nodes, edge_index, y):\n",
    "    positions = torch.stack([s[:3] for s in y])\n",
    "\n",
    "    # edge_index, _, _ = dropout_node(edge_index, p=0.4, num_nodes=positions.shape[0])\n",
    "\n",
    "    # normalize position of each frame to the first frame\n",
    "    new_pos = []\n",
    "    for i in range(positions.shape[0]):\n",
    "        new_pos.append(positions[i] - positions[0])\n",
    "    new_pos = torch.stack(new_pos)\n",
    "\n",
    "    edge_index, _ = dropout_edge(edge_index, p=0.4)\n",
    "\n",
    "    return nodes, edge_index, new_pos"
   ]
  },
  {
   "cell_type": "code",
   "execution_count": 5,
   "metadata": {},
   "outputs": [
    {
     "ename": "SyntaxError",
     "evalue": "invalid syntax. Perhaps you forgot a comma? (833980467.py, line 17)",
     "output_type": "error",
     "traceback": [
      "\u001b[0;36m  Cell \u001b[0;32mIn[5], line 17\u001b[0;36m\u001b[0m\n\u001b[0;31m    four_seasons_sequences\u001b[0m\n\u001b[0m    ^\u001b[0m\n\u001b[0;31mSyntaxError\u001b[0m\u001b[0;31m:\u001b[0m invalid syntax. Perhaps you forgot a comma?\n"
     ]
    }
   ],
   "source": [
    "from model import PoseGNN, PoseLoss, JustLastNodePositionLoss\n",
    "\n",
    "BATCH_SIZE = 128\n",
    "GRAPH_LENGTH = 6\n",
    "\n",
    "four_seasons_sequences = [\n",
    "    FourSeasonsSequenceDataset(basedir_4seasons, sequence_name, \"features_4se_bitm\")\n",
    "    for sequence_name in train_sequences_4se\n",
    "]\n",
    "\n",
    "kitti_sequences = [\n",
    "    KittiSequenceDataset(basedir_kitti, sequence_name, \"features_kitti_bitm\")\n",
    "    for sequence_name in train_sequences_kitti\n",
    "]\n",
    "\n",
    "dataset = MultipleSequenceGraphDataset(\n",
    "    four_seasons_sequences + kitti_sequences,\n",
    "    graph_length=GRAPH_LENGTH,\n",
    "    transform=normalize_position_to_first_and_dropout,\n",
    ")\n",
    "train_dataloader = DataLoader(dataset, batch_size=BATCH_SIZE, shuffle=True)\n",
    "\n",
    "validation_dataset = SequenceGraphDataset(\n",
    "    KittiSequenceDataset(basedir_kitti, \"09\", \"features_kitti_bitm\"),\n",
    "    graph_length=GRAPH_LENGTH,\n",
    "    transform=normalize_position_to_first_and_dropout,\n",
    ")\n",
    "validation_dataloader = DataLoader(\n",
    "    validation_dataset, batch_size=BATCH_SIZE, shuffle=True\n",
    ")\n",
    "\n",
    "model = PoseGNN().to(device)\n",
    "\n",
    "criterion = JustLastNodePositionLoss(\n",
    "    graph_length=GRAPH_LENGTH, batch_size=BATCH_SIZE\n",
    ").to(device)"
   ]
  },
  {
   "cell_type": "code",
   "execution_count": 6,
   "metadata": {},
   "outputs": [
    {
     "name": "stderr",
     "output_type": "stream",
     "text": [
      "Epoch 1:   0%|          | 0/58 [00:00<?, ?it/s]"
     ]
    },
    {
     "name": "stderr",
     "output_type": "stream",
     "text": [
      "Epoch 1: 100%|██████████| 58/58 [00:04<00:00, 13.80it/s, loss=6.82]\n",
      "Validation: 100%|██████████| 13/13 [00:00<00:00, 16.28it/s]\n"
     ]
    },
    {
     "name": "stdout",
     "output_type": "stream",
     "text": [
      "Epoch 1 loss: 9.134 validation loss: 24.618\n"
     ]
    },
    {
     "name": "stderr",
     "output_type": "stream",
     "text": [
      "Epoch 2: 100%|██████████| 58/58 [00:03<00:00, 15.92it/s, loss=3.47]\n",
      "Validation: 100%|██████████| 13/13 [00:00<00:00, 16.34it/s]\n"
     ]
    },
    {
     "name": "stdout",
     "output_type": "stream",
     "text": [
      "Epoch 2 loss: 5.466 validation loss: 19.938\n"
     ]
    },
    {
     "name": "stderr",
     "output_type": "stream",
     "text": [
      "Epoch 3: 100%|██████████| 58/58 [00:03<00:00, 16.03it/s, loss=3.13]\n",
      "Validation: 100%|██████████| 13/13 [00:00<00:00, 16.28it/s]\n"
     ]
    },
    {
     "name": "stdout",
     "output_type": "stream",
     "text": [
      "Epoch 3 loss: 3.664 validation loss: 20.139\n"
     ]
    },
    {
     "name": "stderr",
     "output_type": "stream",
     "text": [
      "Epoch 4: 100%|██████████| 58/58 [00:03<00:00, 15.68it/s, loss=1.81]\n",
      "Validation: 100%|██████████| 13/13 [00:00<00:00, 15.89it/s]\n"
     ]
    },
    {
     "name": "stdout",
     "output_type": "stream",
     "text": [
      "Epoch 4 loss: 2.181 validation loss: 19.511\n"
     ]
    },
    {
     "name": "stderr",
     "output_type": "stream",
     "text": [
      "Epoch 5: 100%|██████████| 58/58 [00:03<00:00, 15.42it/s, loss=2.3] \n",
      "Validation: 100%|██████████| 13/13 [00:00<00:00, 15.66it/s]\n"
     ]
    },
    {
     "name": "stdout",
     "output_type": "stream",
     "text": [
      "Epoch 5 loss: 1.800 validation loss: 18.085\n"
     ]
    },
    {
     "name": "stderr",
     "output_type": "stream",
     "text": [
      "Epoch 6: 100%|██████████| 58/58 [00:03<00:00, 15.96it/s, loss=1.62] \n",
      "Validation: 100%|██████████| 13/13 [00:00<00:00, 16.02it/s]\n"
     ]
    },
    {
     "name": "stdout",
     "output_type": "stream",
     "text": [
      "Epoch 6 loss: 1.252 validation loss: 17.220\n"
     ]
    },
    {
     "name": "stderr",
     "output_type": "stream",
     "text": [
      "Epoch 7: 100%|██████████| 58/58 [00:03<00:00, 15.76it/s, loss=0.386]\n",
      "Validation: 100%|██████████| 13/13 [00:00<00:00, 15.89it/s]\n"
     ]
    },
    {
     "name": "stdout",
     "output_type": "stream",
     "text": [
      "Epoch 7 loss: 0.909 validation loss: 18.270\n"
     ]
    },
    {
     "name": "stderr",
     "output_type": "stream",
     "text": [
      "Epoch 8: 100%|██████████| 58/58 [00:03<00:00, 15.78it/s, loss=0.629]\n",
      "Validation: 100%|██████████| 13/13 [00:00<00:00, 16.59it/s]\n"
     ]
    },
    {
     "name": "stdout",
     "output_type": "stream",
     "text": [
      "Epoch 8 loss: 0.711 validation loss: 18.216\n"
     ]
    },
    {
     "name": "stderr",
     "output_type": "stream",
     "text": [
      "Epoch 9: 100%|██████████| 58/58 [00:03<00:00, 15.61it/s, loss=0.643]\n",
      "Validation: 100%|██████████| 13/13 [00:00<00:00, 15.51it/s]\n"
     ]
    },
    {
     "name": "stdout",
     "output_type": "stream",
     "text": [
      "Epoch 9 loss: 0.581 validation loss: 17.582\n"
     ]
    },
    {
     "name": "stderr",
     "output_type": "stream",
     "text": [
      "Epoch 10: 100%|██████████| 58/58 [00:03<00:00, 15.85it/s, loss=0.347]\n",
      "Validation: 100%|██████████| 13/13 [00:00<00:00, 16.15it/s]\n"
     ]
    },
    {
     "name": "stdout",
     "output_type": "stream",
     "text": [
      "Epoch 10 loss: 0.535 validation loss: 17.822\n",
      "Model saved\n"
     ]
    },
    {
     "name": "stderr",
     "output_type": "stream",
     "text": [
      "Epoch 11:  86%|████████▌ | 50/58 [00:03<00:00, 15.61it/s, loss=0.561]\n"
     ]
    },
    {
     "ename": "KeyboardInterrupt",
     "evalue": "",
     "output_type": "error",
     "traceback": [
      "\u001b[0;31m---------------------------------------------------------------------------\u001b[0m",
      "\u001b[0;31mKeyboardInterrupt\u001b[0m                         Traceback (most recent call last)",
      "\u001b[1;32m/home/pcktm/inzynierka/pose-gnn/train.ipynb Cell 6\u001b[0m line \u001b[0;36m2\n\u001b[1;32m     <a href='vscode-notebook-cell:/home/pcktm/inzynierka/pose-gnn/train.ipynb#W6sZmlsZQ%3D%3D?line=16'>17</a>\u001b[0m epoch_loss_history \u001b[39m=\u001b[39m []\n\u001b[1;32m     <a href='vscode-notebook-cell:/home/pcktm/inzynierka/pose-gnn/train.ipynb#W6sZmlsZQ%3D%3D?line=17'>18</a>\u001b[0m progress_bar \u001b[39m=\u001b[39m tqdm(\n\u001b[1;32m     <a href='vscode-notebook-cell:/home/pcktm/inzynierka/pose-gnn/train.ipynb#W6sZmlsZQ%3D%3D?line=18'>19</a>\u001b[0m     train_dataloader, desc\u001b[39m=\u001b[39m\u001b[39mf\u001b[39m\u001b[39m\"\u001b[39m\u001b[39mEpoch \u001b[39m\u001b[39m{\u001b[39;00mepoch\u001b[39m}\u001b[39;00m\u001b[39m\"\u001b[39m, total\u001b[39m=\u001b[39m\u001b[39mlen\u001b[39m(train_dataloader)\n\u001b[1;32m     <a href='vscode-notebook-cell:/home/pcktm/inzynierka/pose-gnn/train.ipynb#W6sZmlsZQ%3D%3D?line=19'>20</a>\u001b[0m )\n\u001b[0;32m---> <a href='vscode-notebook-cell:/home/pcktm/inzynierka/pose-gnn/train.ipynb#W6sZmlsZQ%3D%3D?line=20'>21</a>\u001b[0m \u001b[39mfor\u001b[39;49;00m batch \u001b[39min\u001b[39;49;00m progress_bar:\n\u001b[1;32m     <a href='vscode-notebook-cell:/home/pcktm/inzynierka/pose-gnn/train.ipynb#W6sZmlsZQ%3D%3D?line=21'>22</a>\u001b[0m     batch \u001b[39m=\u001b[39;49m batch\u001b[39m.\u001b[39;49mto(device)\n\u001b[1;32m     <a href='vscode-notebook-cell:/home/pcktm/inzynierka/pose-gnn/train.ipynb#W6sZmlsZQ%3D%3D?line=22'>23</a>\u001b[0m     optimizer\u001b[39m.\u001b[39;49mzero_grad()\n",
      "File \u001b[0;32m/usr/lib/python3.11/site-packages/tqdm/std.py:1182\u001b[0m, in \u001b[0;36mtqdm.__iter__\u001b[0;34m(self)\u001b[0m\n\u001b[1;32m   1179\u001b[0m time \u001b[39m=\u001b[39m \u001b[39mself\u001b[39m\u001b[39m.\u001b[39m_time\n\u001b[1;32m   1181\u001b[0m \u001b[39mtry\u001b[39;00m:\n\u001b[0;32m-> 1182\u001b[0m     \u001b[39mfor\u001b[39;49;00m obj \u001b[39min\u001b[39;49;00m iterable:\n\u001b[1;32m   1183\u001b[0m         \u001b[39myield\u001b[39;49;00m obj\n\u001b[1;32m   1184\u001b[0m         \u001b[39m# Update and possibly print the progressbar.\u001b[39;49;00m\n\u001b[1;32m   1185\u001b[0m         \u001b[39m# Note: does not call self.update(1) for speed optimisation.\u001b[39;49;00m\n",
      "File \u001b[0;32m/usr/lib/python3.11/site-packages/torch/utils/data/dataloader.py:630\u001b[0m, in \u001b[0;36m_BaseDataLoaderIter.__next__\u001b[0;34m(self)\u001b[0m\n\u001b[1;32m    627\u001b[0m \u001b[39mif\u001b[39;00m \u001b[39mself\u001b[39m\u001b[39m.\u001b[39m_sampler_iter \u001b[39mis\u001b[39;00m \u001b[39mNone\u001b[39;00m:\n\u001b[1;32m    628\u001b[0m     \u001b[39m# TODO(https://github.com/pytorch/pytorch/issues/76750)\u001b[39;00m\n\u001b[1;32m    629\u001b[0m     \u001b[39mself\u001b[39m\u001b[39m.\u001b[39m_reset()  \u001b[39m# type: ignore[call-arg]\u001b[39;00m\n\u001b[0;32m--> 630\u001b[0m data \u001b[39m=\u001b[39m \u001b[39mself\u001b[39;49m\u001b[39m.\u001b[39;49m_next_data()\n\u001b[1;32m    631\u001b[0m \u001b[39mself\u001b[39m\u001b[39m.\u001b[39m_num_yielded \u001b[39m+\u001b[39m\u001b[39m=\u001b[39m \u001b[39m1\u001b[39m\n\u001b[1;32m    632\u001b[0m \u001b[39mif\u001b[39;00m \u001b[39mself\u001b[39m\u001b[39m.\u001b[39m_dataset_kind \u001b[39m==\u001b[39m _DatasetKind\u001b[39m.\u001b[39mIterable \u001b[39mand\u001b[39;00m \\\n\u001b[1;32m    633\u001b[0m         \u001b[39mself\u001b[39m\u001b[39m.\u001b[39m_IterableDataset_len_called \u001b[39mis\u001b[39;00m \u001b[39mnot\u001b[39;00m \u001b[39mNone\u001b[39;00m \u001b[39mand\u001b[39;00m \\\n\u001b[1;32m    634\u001b[0m         \u001b[39mself\u001b[39m\u001b[39m.\u001b[39m_num_yielded \u001b[39m>\u001b[39m \u001b[39mself\u001b[39m\u001b[39m.\u001b[39m_IterableDataset_len_called:\n",
      "File \u001b[0;32m/usr/lib/python3.11/site-packages/torch/utils/data/dataloader.py:674\u001b[0m, in \u001b[0;36m_SingleProcessDataLoaderIter._next_data\u001b[0;34m(self)\u001b[0m\n\u001b[1;32m    672\u001b[0m \u001b[39mdef\u001b[39;00m \u001b[39m_next_data\u001b[39m(\u001b[39mself\u001b[39m):\n\u001b[1;32m    673\u001b[0m     index \u001b[39m=\u001b[39m \u001b[39mself\u001b[39m\u001b[39m.\u001b[39m_next_index()  \u001b[39m# may raise StopIteration\u001b[39;00m\n\u001b[0;32m--> 674\u001b[0m     data \u001b[39m=\u001b[39m \u001b[39mself\u001b[39;49m\u001b[39m.\u001b[39;49m_dataset_fetcher\u001b[39m.\u001b[39;49mfetch(index)  \u001b[39m# may raise StopIteration\u001b[39;00m\n\u001b[1;32m    675\u001b[0m     \u001b[39mif\u001b[39;00m \u001b[39mself\u001b[39m\u001b[39m.\u001b[39m_pin_memory:\n\u001b[1;32m    676\u001b[0m         data \u001b[39m=\u001b[39m _utils\u001b[39m.\u001b[39mpin_memory\u001b[39m.\u001b[39mpin_memory(data, \u001b[39mself\u001b[39m\u001b[39m.\u001b[39m_pin_memory_device)\n",
      "File \u001b[0;32m/usr/lib/python3.11/site-packages/torch/utils/data/_utils/fetch.py:51\u001b[0m, in \u001b[0;36m_MapDatasetFetcher.fetch\u001b[0;34m(self, possibly_batched_index)\u001b[0m\n\u001b[1;32m     49\u001b[0m         data \u001b[39m=\u001b[39m \u001b[39mself\u001b[39m\u001b[39m.\u001b[39mdataset\u001b[39m.\u001b[39m__getitems__(possibly_batched_index)\n\u001b[1;32m     50\u001b[0m     \u001b[39melse\u001b[39;00m:\n\u001b[0;32m---> 51\u001b[0m         data \u001b[39m=\u001b[39m [\u001b[39mself\u001b[39;49m\u001b[39m.\u001b[39;49mdataset[idx] \u001b[39mfor\u001b[39;49;00m idx \u001b[39min\u001b[39;49;00m possibly_batched_index]\n\u001b[1;32m     52\u001b[0m \u001b[39melse\u001b[39;00m:\n\u001b[1;32m     53\u001b[0m     data \u001b[39m=\u001b[39m \u001b[39mself\u001b[39m\u001b[39m.\u001b[39mdataset[possibly_batched_index]\n",
      "File \u001b[0;32m/usr/lib/python3.11/site-packages/torch/utils/data/_utils/fetch.py:51\u001b[0m, in \u001b[0;36m<listcomp>\u001b[0;34m(.0)\u001b[0m\n\u001b[1;32m     49\u001b[0m         data \u001b[39m=\u001b[39m \u001b[39mself\u001b[39m\u001b[39m.\u001b[39mdataset\u001b[39m.\u001b[39m__getitems__(possibly_batched_index)\n\u001b[1;32m     50\u001b[0m     \u001b[39melse\u001b[39;00m:\n\u001b[0;32m---> 51\u001b[0m         data \u001b[39m=\u001b[39m [\u001b[39mself\u001b[39;49m\u001b[39m.\u001b[39;49mdataset[idx] \u001b[39mfor\u001b[39;00m idx \u001b[39min\u001b[39;00m possibly_batched_index]\n\u001b[1;32m     52\u001b[0m \u001b[39melse\u001b[39;00m:\n\u001b[1;32m     53\u001b[0m     data \u001b[39m=\u001b[39m \u001b[39mself\u001b[39m\u001b[39m.\u001b[39mdataset[possibly_batched_index]\n",
      "File \u001b[0;32m~/inzynierka/pose-gnn/dataset.py:259\u001b[0m, in \u001b[0;36mMultipleSequenceGraphDataset.__getitem__\u001b[0;34m(self, index)\u001b[0m\n\u001b[1;32m    257\u001b[0m     index \u001b[39m-\u001b[39m\u001b[39m=\u001b[39m \u001b[39mlen\u001b[39m(\u001b[39mself\u001b[39m\u001b[39m.\u001b[39mdatasets[dataset_index])\n\u001b[1;32m    258\u001b[0m     dataset_index \u001b[39m+\u001b[39m\u001b[39m=\u001b[39m \u001b[39m1\u001b[39m\n\u001b[0;32m--> 259\u001b[0m \u001b[39mreturn\u001b[39;00m \u001b[39mself\u001b[39;49m\u001b[39m.\u001b[39;49mdatasets[dataset_index][index]\n",
      "File \u001b[0;32m~/inzynierka/pose-gnn/dataset.py:234\u001b[0m, in \u001b[0;36mSequenceGraphDataset.__getitem__\u001b[0;34m(self, index)\u001b[0m\n\u001b[1;32m    231\u001b[0m \u001b[39mif\u001b[39;00m \u001b[39mself\u001b[39m\u001b[39m.\u001b[39mtransform:\n\u001b[1;32m    232\u001b[0m     nodes, edge_index, y \u001b[39m=\u001b[39m \u001b[39mself\u001b[39m\u001b[39m.\u001b[39mtransform(nodes, edge_index, y)\n\u001b[0;32m--> 234\u001b[0m \u001b[39mreturn\u001b[39;00m Data(x\u001b[39m=\u001b[39;49mnodes, edge_index\u001b[39m=\u001b[39;49medge_index, y\u001b[39m=\u001b[39;49my)\n",
      "File \u001b[0;32m~/inzynierka/pose-gnn/venv/lib/python3.11/site-packages/torch_geometric/data/data.py:453\u001b[0m, in \u001b[0;36mData.__init__\u001b[0;34m(self, x, edge_index, edge_attr, y, pos, **kwargs)\u001b[0m\n\u001b[1;32m    442\u001b[0m \u001b[39mdef\u001b[39;00m \u001b[39m__init__\u001b[39m(\n\u001b[1;32m    443\u001b[0m     \u001b[39mself\u001b[39m,\n\u001b[1;32m    444\u001b[0m     x: Optional[Tensor] \u001b[39m=\u001b[39m \u001b[39mNone\u001b[39;00m,\n\u001b[0;32m   (...)\u001b[0m\n\u001b[1;32m    451\u001b[0m     \u001b[39m# `Data` doesn't support group_name, so we need to adjust `TensorAttr`\u001b[39;00m\n\u001b[1;32m    452\u001b[0m     \u001b[39m# accordingly here to avoid requiring `group_name` to be set:\u001b[39;00m\n\u001b[0;32m--> 453\u001b[0m     \u001b[39msuper\u001b[39;49m()\u001b[39m.\u001b[39;49m\u001b[39m__init__\u001b[39;49m(tensor_attr_cls\u001b[39m=\u001b[39;49mDataTensorAttr)\n\u001b[1;32m    455\u001b[0m     \u001b[39m# `Data` doesn't support edge_type, so we need to adjust `EdgeAttr`\u001b[39;00m\n\u001b[1;32m    456\u001b[0m     \u001b[39m# accordingly here to avoid requiring `edge_type` to be set:\u001b[39;00m\n\u001b[1;32m    457\u001b[0m     GraphStore\u001b[39m.\u001b[39m\u001b[39m__init__\u001b[39m(\u001b[39mself\u001b[39m, edge_attr_cls\u001b[39m=\u001b[39mDataEdgeAttr)\n",
      "File \u001b[0;32m~/inzynierka/pose-gnn/venv/lib/python3.11/site-packages/torch_geometric/data/feature_store.py:263\u001b[0m, in \u001b[0;36mFeatureStore.__init__\u001b[0;34m(self, tensor_attr_cls)\u001b[0m\n\u001b[1;32m    262\u001b[0m \u001b[39mdef\u001b[39;00m \u001b[39m__init__\u001b[39m(\u001b[39mself\u001b[39m, tensor_attr_cls: Optional[Any] \u001b[39m=\u001b[39m \u001b[39mNone\u001b[39;00m):\n\u001b[0;32m--> 263\u001b[0m     \u001b[39msuper\u001b[39;49m()\u001b[39m.\u001b[39;49m\u001b[39m__init__\u001b[39;49m()\n\u001b[1;32m    264\u001b[0m     \u001b[39mself\u001b[39m\u001b[39m.\u001b[39m\u001b[39m__dict__\u001b[39m[\u001b[39m'\u001b[39m\u001b[39m_tensor_attr_cls\u001b[39m\u001b[39m'\u001b[39m] \u001b[39m=\u001b[39m tensor_attr_cls \u001b[39mor\u001b[39;00m TensorAttr\n",
      "File \u001b[0;32m~/inzynierka/pose-gnn/venv/lib/python3.11/site-packages/torch_geometric/data/graph_store.py:110\u001b[0m, in \u001b[0;36mGraphStore.__init__\u001b[0;34m(self, edge_attr_cls)\u001b[0m\n\u001b[1;32m    102\u001b[0m \u001b[39mclass\u001b[39;00m \u001b[39mGraphStore\u001b[39;00m:\n\u001b[1;32m    103\u001b[0m \u001b[39m    \u001b[39m\u001b[39mr\u001b[39m\u001b[39m\"\"\"An abstract base class to access edges from a remote graph store.\u001b[39;00m\n\u001b[1;32m    104\u001b[0m \n\u001b[1;32m    105\u001b[0m \u001b[39m    Args:\u001b[39;00m\n\u001b[0;32m   (...)\u001b[0m\n\u001b[1;32m    108\u001b[0m \u001b[39m            their ordering to uniquely identify edges. (default: :obj:`None`)\u001b[39;00m\n\u001b[1;32m    109\u001b[0m \u001b[39m    \"\"\"\u001b[39;00m\n\u001b[0;32m--> 110\u001b[0m     \u001b[39mdef\u001b[39;00m \u001b[39m__init__\u001b[39m(\u001b[39mself\u001b[39m, edge_attr_cls: Optional[Any] \u001b[39m=\u001b[39m \u001b[39mNone\u001b[39;00m):\n\u001b[1;32m    111\u001b[0m         \u001b[39msuper\u001b[39m()\u001b[39m.\u001b[39m\u001b[39m__init__\u001b[39m()\n\u001b[1;32m    112\u001b[0m         \u001b[39mself\u001b[39m\u001b[39m.\u001b[39m\u001b[39m__dict__\u001b[39m[\u001b[39m'\u001b[39m\u001b[39m_edge_attr_cls\u001b[39m\u001b[39m'\u001b[39m] \u001b[39m=\u001b[39m edge_attr_cls \u001b[39mor\u001b[39;00m EdgeAttr\n",
      "\u001b[0;31mKeyboardInterrupt\u001b[0m: "
     ]
    }
   ],
   "source": [
    "optimizer = torch.optim.AdamW(model.parameters())\n",
    "MODEL_LETTER = \"BTIM_A_GATv2Conv_4seasons\"\n",
    "\n",
    "os.makedirs(f\"models/{MODEL_LETTER}\", exist_ok=True)\n",
    "\n",
    "# drop all model training parameters to a file\n",
    "with open(f\"models/{MODEL_LETTER}/params.txt\", \"w\") as f:\n",
    "    f.write(f\"batch_size: {BATCH_SIZE}\\n\")\n",
    "    f.write(f\"graph_length: {GRAPH_LENGTH}\\n\")\n",
    "    f.write(f\"model: {model}\\n\")\n",
    "    f.write(f\"criterion: {criterion}\\n\")\n",
    "    f.write(f\"optimizer: {optimizer}\\n\")\n",
    "\n",
    "loss_history = []\n",
    "for epoch in range(1, 100):\n",
    "    model.train()\n",
    "    epoch_loss_history = []\n",
    "    progress_bar = tqdm(\n",
    "        train_dataloader, desc=f\"Epoch {epoch}\", total=len(train_dataloader)\n",
    "    )\n",
    "    for batch in progress_bar:\n",
    "        batch = batch.to(device)\n",
    "        optimizer.zero_grad()\n",
    "        output = model(batch)\n",
    "        loss = criterion(output, batch.y)\n",
    "        loss.backward()\n",
    "        optimizer.step()\n",
    "        epoch_loss_history.append(loss.item())\n",
    "        progress_bar.set_postfix({\"loss\": loss.item()})\n",
    "\n",
    "    # evaluate model on the validation set\n",
    "    model.eval()\n",
    "    validation_loss_history = []\n",
    "    with torch.no_grad():\n",
    "        for batch in tqdm(\n",
    "            validation_dataloader, desc=\"Validation\", total=len(validation_dataloader)\n",
    "        ):\n",
    "            batch = batch.to(device)\n",
    "            output = model(batch)\n",
    "            loss = criterion(output, batch.y)\n",
    "            validation_loss_history.append(loss.item())\n",
    "\n",
    "    loss_history.append(sum(epoch_loss_history) / len(epoch_loss_history))\n",
    "    print(\n",
    "        f\"Epoch {epoch} loss: {sum(epoch_loss_history) / len(epoch_loss_history):.3f} validation loss: {sum(validation_loss_history) / len(validation_loss_history):.3f}\"\n",
    "    )\n",
    "\n",
    "    if epoch % 10 == 0:\n",
    "        torch.save(model.state_dict(), f\"models/{MODEL_LETTER}/model_{epoch}.pth\")\n",
    "        print(\"Model saved\")\n",
    "\n",
    "torch.save(model.state_dict(), f\"models/{MODEL_LETTER}/model_final.pth\")"
   ]
  },
  {
   "cell_type": "code",
   "execution_count": 12,
   "metadata": {},
   "outputs": [
    {
     "data": {
      "image/png": "[encoded data removed]",
      "text/plain": [
       "<Figure size 640x480 with 1 Axes>"
      ]
     },
     "metadata": {},
     "output_type": "display_data"
    }
   ],
   "source": [
    "# plot loss\n",
    "plt.plot(loss_history)#log\n",
    "plt.yscale(\"log\")\n",
    "plt.show()"
   ]
  }
 ],
 "metadata": {
  "kernelspec": {
   "display_name": "venv",
   "language": "python",
   "name": "python3"
  },
  "language_info": {
   "codemirror_mode": {
    "name": "ipython",
    "version": 3
   },
   "file_extension": ".py",
   "mimetype": "text/x-python",
   "name": "python",
   "nbconvert_exporter": "python",
   "pygments_lexer": "ipython3",
   "version": "3.11.6"
  }
 },
 "nbformat": 4,
 "nbformat_minor": 2
}
