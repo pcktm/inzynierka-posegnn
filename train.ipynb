{
 "cells": [
  {
   "cell_type": "code",
   "execution_count": 1,
   "metadata": {},
   "outputs": [],
   "source": [
    "import os\n",
    "from glob import glob\n",
    "from dataset import (\n",
    "    KittiGraphDataset,\n",
    "    MultipleSequenceGraphDataset,\n",
    "    KittiSequenceDataset,\n",
    ")\n",
    "from torch_geometric.loader import DataLoader\n",
    "from scipy.spatial.transform import Rotation as R\n",
    "import torch\n",
    "from tqdm import tqdm\n",
    "from model import PoseGNN, PoseLoss\n",
    "import time\n",
    "import matplotlib.pyplot as plt\n",
    "import numpy as np\n",
    "import cv2"
   ]
  },
  {
   "cell_type": "code",
   "execution_count": 2,
   "metadata": {},
   "outputs": [
    {
     "name": "stdout",
     "output_type": "stream",
     "text": [
      "Using device: cuda\n"
     ]
    }
   ],
   "source": [
    "os.makedirs(\"models\", exist_ok=True)\n",
    "device = torch.device(\"cuda\" if torch.cuda.is_available() else \"cpu\")\n",
    "\n",
    "print(\"Using device:\", device)"
   ]
  },
  {
   "cell_type": "code",
   "execution_count": 3,
   "metadata": {},
   "outputs": [],
   "source": [
    "basedir = \"/home/pcktm/inzynierka/kitti/dataset\"\n",
    "train_sequences = [\"00\", \"01\", \"02\", \"03\", \"04\", \"05\", \"06\", \"07\", \"08\"]"
   ]
  },
  {
   "cell_type": "code",
   "execution_count": 4,
   "metadata": {},
   "outputs": [],
   "source": [
    "def normalize_position_and_rotation_to_previous(nodes, edge_index, y: list[torch.tensor]) -> tuple:\n",
    "    # position and rotation are encoded [x, y, z, w, x, y, z] and samples is a list of such vectors\n",
    "    positions = torch.stack([s[:3] for s in y])\n",
    "    rotations = torch.stack([s[3:] for s in y])\n",
    "\n",
    "    # normalize position of each frame to the frame before it, so that the first frame is always [0, 0, 0]\n",
    "    new_pos = [positions[0] - positions[0]]\n",
    "    for i in range(1, positions.shape[0]):\n",
    "        new_pos.append(positions[i] - positions[i - 1])\n",
    "\n",
    "    new_pos = torch.stack(new_pos)\n",
    "\n",
    "    # normalize rotation to the frame before it\n",
    "    new_rot = [R.from_quat(rotations[0]).inv() * R.from_quat(rotations[0])]\n",
    "    for i in range(1, rotations.shape[0]):\n",
    "        new_rot.append(R.from_quat(rotations[i]).inv() * R.from_quat(rotations[i - 1]))\n",
    "\n",
    "    new_rot = torch.tensor([r.as_quat() for r in new_rot], dtype=torch.float32)\n",
    "\n",
    "    return nodes, edge_index, torch.concatenate((new_pos, new_rot), axis=1)"
   ]
  },
  {
   "cell_type": "code",
   "execution_count": 5,
   "metadata": {},
   "outputs": [],
   "source": [
    "def normalize_position_and_rotation_to_first(nodes, edge_index, y):\n",
    "    positions = torch.stack([s[:3] for s in y])\n",
    "    rotations = torch.stack([s[3:] for s in y])\n",
    "\n",
    "    # normalize position of each frame to the first frame\n",
    "    new_pos = []\n",
    "    for i in range(positions.shape[0]):\n",
    "        new_pos.append(positions[i] - positions[0])\n",
    "\n",
    "    new_pos = torch.stack(new_pos)\n",
    "\n",
    "    # normalize rotation to the first frame\n",
    "    new_rot =  []\n",
    "    for i in range(rotations.shape[0]):\n",
    "        new_rot.append(R.from_quat(rotations[i]).inv() * R.from_quat(rotations[0]))\n",
    "\n",
    "    new_rot = torch.tensor([r.as_quat() for r in new_rot], dtype=torch.float32)\n",
    "\n",
    "    return nodes, edge_index, torch.concatenate((new_pos, new_rot), axis=1)"
   ]
  },
  {
   "cell_type": "code",
   "execution_count": 8,
   "metadata": {},
   "outputs": [],
   "source": [
    "from torch_geometric.utils import dropout_edge\n",
    "\n",
    "def transformEdgeDropout(nodes, edge_index, y):\n",
    "    edge_index, _ = dropout_edge(edge_index, p=0.5)\n",
    "    return nodes, edge_index, y"
   ]
  },
  {
   "cell_type": "code",
   "execution_count": 6,
   "metadata": {},
   "outputs": [],
   "source": [
    "from dataset import KittiGraphDatasetWithGraphBasedOnVectorDistance\n",
    "\n",
    "\n",
    "dataset = MultipleSequenceGraphDataset(\n",
    "    basedir,\n",
    "    train_sequences,\n",
    "    dataset=KittiGraphDatasetWithGraphBasedOnVectorDistance,\n",
    "    transform=normalize_position_and_rotation_to_first,\n",
    "    graph_length=10,\n",
    ")\n",
    "train_dataloader = DataLoader(dataset, batch_size=64, shuffle=True)\n",
    "\n",
    "model = PoseGNN().to(device)\n",
    "criterion = PoseLoss(alpha=20)"
   ]
  },
  {
   "cell_type": "code",
   "execution_count": 7,
   "metadata": {},
   "outputs": [
    {
     "name": "stderr",
     "output_type": "stream",
     "text": [
      "Epoch 1: 100%|██████████| 318/318 [06:20<00:00,  1.20s/it, loss=4.74e+4]\n"
     ]
    },
    {
     "name": "stdout",
     "output_type": "stream",
     "text": [
      "Epoch 1 loss: 67216.32182954992\n"
     ]
    },
    {
     "name": "stderr",
     "output_type": "stream",
     "text": [
      "Epoch 2: 100%|██████████| 318/318 [06:15<00:00,  1.18s/it, loss=9.62e+4]\n"
     ]
    },
    {
     "name": "stdout",
     "output_type": "stream",
     "text": [
      "Epoch 2 loss: 66723.62224228577\n"
     ]
    },
    {
     "name": "stderr",
     "output_type": "stream",
     "text": [
      "Epoch 3: 100%|██████████| 318/318 [06:18<00:00,  1.19s/it, loss=3.93e+4]\n"
     ]
    },
    {
     "name": "stdout",
     "output_type": "stream",
     "text": [
      "Epoch 3 loss: 66184.60128611438\n"
     ]
    },
    {
     "name": "stderr",
     "output_type": "stream",
     "text": [
      "Epoch 4: 100%|██████████| 318/318 [06:14<00:00,  1.18s/it, loss=6.18e+4]\n"
     ]
    },
    {
     "name": "stdout",
     "output_type": "stream",
     "text": [
      "Epoch 4 loss: 108826.25276999803\n"
     ]
    },
    {
     "name": "stderr",
     "output_type": "stream",
     "text": [
      "Epoch 5: 100%|██████████| 318/318 [06:16<00:00,  1.18s/it, loss=7.56e+4]\n"
     ]
    },
    {
     "name": "stdout",
     "output_type": "stream",
     "text": [
      "Epoch 5 loss: 65964.10118784395\n"
     ]
    },
    {
     "name": "stderr",
     "output_type": "stream",
     "text": [
      "Epoch 6: 100%|██████████| 318/318 [06:16<00:00,  1.19s/it, loss=7.91e+4]\n"
     ]
    },
    {
     "name": "stdout",
     "output_type": "stream",
     "text": [
      "Epoch 6 loss: 65020.598135318396\n"
     ]
    },
    {
     "name": "stderr",
     "output_type": "stream",
     "text": [
      "Epoch 7: 100%|██████████| 318/318 [06:18<00:00,  1.19s/it, loss=4.74e+4]\n"
     ]
    },
    {
     "name": "stdout",
     "output_type": "stream",
     "text": [
      "Epoch 7 loss: 63486.210151336476\n"
     ]
    },
    {
     "name": "stderr",
     "output_type": "stream",
     "text": [
      "Epoch 8: 100%|██████████| 318/318 [06:35<00:00,  1.24s/it, loss=2.74e+4]\n"
     ]
    },
    {
     "name": "stdout",
     "output_type": "stream",
     "text": [
      "Epoch 8 loss: 61748.39945705582\n"
     ]
    },
    {
     "name": "stderr",
     "output_type": "stream",
     "text": [
      "Epoch 9: 100%|██████████| 318/318 [07:58<00:00,  1.50s/it, loss=1.92e+4]\n"
     ]
    },
    {
     "name": "stdout",
     "output_type": "stream",
     "text": [
      "Epoch 9 loss: 62705.321602299526\n"
     ]
    },
    {
     "name": "stderr",
     "output_type": "stream",
     "text": [
      "Epoch 10: 100%|██████████| 318/318 [08:04<00:00,  1.52s/it, loss=5.31e+4]\n"
     ]
    },
    {
     "name": "stdout",
     "output_type": "stream",
     "text": [
      "Epoch 10 loss: 61303.697701700075\n"
     ]
    },
    {
     "name": "stderr",
     "output_type": "stream",
     "text": [
      "Epoch 11:  64%|██████▎   | 202/318 [04:33<02:37,  1.35s/it, loss=9.16e+4]\n"
     ]
    },
    {
     "ename": "KeyboardInterrupt",
     "evalue": "",
     "output_type": "error",
     "traceback": [
      "\u001b[0;31m---------------------------------------------------------------------------\u001b[0m",
      "\u001b[0;31mKeyboardInterrupt\u001b[0m                         Traceback (most recent call last)",
      "\u001b[1;32m/home/pcktm/inzynierka/pose-gnn/train.ipynb Cell 7\u001b[0m line \u001b[0;36m1\n\u001b[1;32m      <a href='vscode-notebook-cell:/home/pcktm/inzynierka/pose-gnn/train.ipynb#W6sZmlsZQ%3D%3D?line=8'>9</a>\u001b[0m epoch_loss_history \u001b[39m=\u001b[39m []\n\u001b[1;32m     <a href='vscode-notebook-cell:/home/pcktm/inzynierka/pose-gnn/train.ipynb#W6sZmlsZQ%3D%3D?line=9'>10</a>\u001b[0m progress_bar \u001b[39m=\u001b[39m tqdm(\n\u001b[1;32m     <a href='vscode-notebook-cell:/home/pcktm/inzynierka/pose-gnn/train.ipynb#W6sZmlsZQ%3D%3D?line=10'>11</a>\u001b[0m     train_dataloader, desc\u001b[39m=\u001b[39m\u001b[39mf\u001b[39m\u001b[39m\"\u001b[39m\u001b[39mEpoch \u001b[39m\u001b[39m{\u001b[39;00mepoch\u001b[39m}\u001b[39;00m\u001b[39m\"\u001b[39m, total\u001b[39m=\u001b[39m\u001b[39mlen\u001b[39m(train_dataloader)\n\u001b[1;32m     <a href='vscode-notebook-cell:/home/pcktm/inzynierka/pose-gnn/train.ipynb#W6sZmlsZQ%3D%3D?line=11'>12</a>\u001b[0m )\n\u001b[0;32m---> <a href='vscode-notebook-cell:/home/pcktm/inzynierka/pose-gnn/train.ipynb#W6sZmlsZQ%3D%3D?line=12'>13</a>\u001b[0m \u001b[39mfor\u001b[39;49;00m batch \u001b[39min\u001b[39;49;00m progress_bar:\n\u001b[1;32m     <a href='vscode-notebook-cell:/home/pcktm/inzynierka/pose-gnn/train.ipynb#W6sZmlsZQ%3D%3D?line=13'>14</a>\u001b[0m     batch \u001b[39m=\u001b[39;49m batch\u001b[39m.\u001b[39;49mto(device)\n\u001b[1;32m     <a href='vscode-notebook-cell:/home/pcktm/inzynierka/pose-gnn/train.ipynb#W6sZmlsZQ%3D%3D?line=14'>15</a>\u001b[0m     optimizer\u001b[39m.\u001b[39;49mzero_grad()\n",
      "File \u001b[0;32m/usr/lib/python3.11/site-packages/tqdm/std.py:1182\u001b[0m, in \u001b[0;36mtqdm.__iter__\u001b[0;34m(self)\u001b[0m\n\u001b[1;32m   1179\u001b[0m time \u001b[39m=\u001b[39m \u001b[39mself\u001b[39m\u001b[39m.\u001b[39m_time\n\u001b[1;32m   1181\u001b[0m \u001b[39mtry\u001b[39;00m:\n\u001b[0;32m-> 1182\u001b[0m     \u001b[39mfor\u001b[39;49;00m obj \u001b[39min\u001b[39;49;00m iterable:\n\u001b[1;32m   1183\u001b[0m         \u001b[39myield\u001b[39;49;00m obj\n\u001b[1;32m   1184\u001b[0m         \u001b[39m# Update and possibly print the progressbar.\u001b[39;49;00m\n\u001b[1;32m   1185\u001b[0m         \u001b[39m# Note: does not call self.update(1) for speed optimisation.\u001b[39;49;00m\n",
      "File \u001b[0;32m/usr/lib/python3.11/site-packages/torch/utils/data/dataloader.py:633\u001b[0m, in \u001b[0;36m_BaseDataLoaderIter.__next__\u001b[0;34m(self)\u001b[0m\n\u001b[1;32m    630\u001b[0m \u001b[39mif\u001b[39;00m \u001b[39mself\u001b[39m\u001b[39m.\u001b[39m_sampler_iter \u001b[39mis\u001b[39;00m \u001b[39mNone\u001b[39;00m:\n\u001b[1;32m    631\u001b[0m     \u001b[39m# TODO(https://github.com/pytorch/pytorch/issues/76750)\u001b[39;00m\n\u001b[1;32m    632\u001b[0m     \u001b[39mself\u001b[39m\u001b[39m.\u001b[39m_reset()  \u001b[39m# type: ignore[call-arg]\u001b[39;00m\n\u001b[0;32m--> 633\u001b[0m data \u001b[39m=\u001b[39m \u001b[39mself\u001b[39;49m\u001b[39m.\u001b[39;49m_next_data()\n\u001b[1;32m    634\u001b[0m \u001b[39mself\u001b[39m\u001b[39m.\u001b[39m_num_yielded \u001b[39m+\u001b[39m\u001b[39m=\u001b[39m \u001b[39m1\u001b[39m\n\u001b[1;32m    635\u001b[0m \u001b[39mif\u001b[39;00m \u001b[39mself\u001b[39m\u001b[39m.\u001b[39m_dataset_kind \u001b[39m==\u001b[39m _DatasetKind\u001b[39m.\u001b[39mIterable \u001b[39mand\u001b[39;00m \\\n\u001b[1;32m    636\u001b[0m         \u001b[39mself\u001b[39m\u001b[39m.\u001b[39m_IterableDataset_len_called \u001b[39mis\u001b[39;00m \u001b[39mnot\u001b[39;00m \u001b[39mNone\u001b[39;00m \u001b[39mand\u001b[39;00m \\\n\u001b[1;32m    637\u001b[0m         \u001b[39mself\u001b[39m\u001b[39m.\u001b[39m_num_yielded \u001b[39m>\u001b[39m \u001b[39mself\u001b[39m\u001b[39m.\u001b[39m_IterableDataset_len_called:\n",
      "File \u001b[0;32m/usr/lib/python3.11/site-packages/torch/utils/data/dataloader.py:677\u001b[0m, in \u001b[0;36m_SingleProcessDataLoaderIter._next_data\u001b[0;34m(self)\u001b[0m\n\u001b[1;32m    675\u001b[0m \u001b[39mdef\u001b[39;00m \u001b[39m_next_data\u001b[39m(\u001b[39mself\u001b[39m):\n\u001b[1;32m    676\u001b[0m     index \u001b[39m=\u001b[39m \u001b[39mself\u001b[39m\u001b[39m.\u001b[39m_next_index()  \u001b[39m# may raise StopIteration\u001b[39;00m\n\u001b[0;32m--> 677\u001b[0m     data \u001b[39m=\u001b[39m \u001b[39mself\u001b[39;49m\u001b[39m.\u001b[39;49m_dataset_fetcher\u001b[39m.\u001b[39;49mfetch(index)  \u001b[39m# may raise StopIteration\u001b[39;00m\n\u001b[1;32m    678\u001b[0m     \u001b[39mif\u001b[39;00m \u001b[39mself\u001b[39m\u001b[39m.\u001b[39m_pin_memory:\n\u001b[1;32m    679\u001b[0m         data \u001b[39m=\u001b[39m _utils\u001b[39m.\u001b[39mpin_memory\u001b[39m.\u001b[39mpin_memory(data, \u001b[39mself\u001b[39m\u001b[39m.\u001b[39m_pin_memory_device)\n",
      "File \u001b[0;32m/usr/lib/python3.11/site-packages/torch/utils/data/_utils/fetch.py:51\u001b[0m, in \u001b[0;36m_MapDatasetFetcher.fetch\u001b[0;34m(self, possibly_batched_index)\u001b[0m\n\u001b[1;32m     49\u001b[0m         data \u001b[39m=\u001b[39m \u001b[39mself\u001b[39m\u001b[39m.\u001b[39mdataset\u001b[39m.\u001b[39m__getitems__(possibly_batched_index)\n\u001b[1;32m     50\u001b[0m     \u001b[39melse\u001b[39;00m:\n\u001b[0;32m---> 51\u001b[0m         data \u001b[39m=\u001b[39m [\u001b[39mself\u001b[39;49m\u001b[39m.\u001b[39;49mdataset[idx] \u001b[39mfor\u001b[39;49;00m idx \u001b[39min\u001b[39;49;00m possibly_batched_index]\n\u001b[1;32m     52\u001b[0m \u001b[39melse\u001b[39;00m:\n\u001b[1;32m     53\u001b[0m     data \u001b[39m=\u001b[39m \u001b[39mself\u001b[39m\u001b[39m.\u001b[39mdataset[possibly_batched_index]\n",
      "File \u001b[0;32m/usr/lib/python3.11/site-packages/torch/utils/data/_utils/fetch.py:51\u001b[0m, in \u001b[0;36m<listcomp>\u001b[0;34m(.0)\u001b[0m\n\u001b[1;32m     49\u001b[0m         data \u001b[39m=\u001b[39m \u001b[39mself\u001b[39m\u001b[39m.\u001b[39mdataset\u001b[39m.\u001b[39m__getitems__(possibly_batched_index)\n\u001b[1;32m     50\u001b[0m     \u001b[39melse\u001b[39;00m:\n\u001b[0;32m---> 51\u001b[0m         data \u001b[39m=\u001b[39m [\u001b[39mself\u001b[39;49m\u001b[39m.\u001b[39;49mdataset[idx] \u001b[39mfor\u001b[39;00m idx \u001b[39min\u001b[39;00m possibly_batched_index]\n\u001b[1;32m     52\u001b[0m \u001b[39melse\u001b[39;00m:\n\u001b[1;32m     53\u001b[0m     data \u001b[39m=\u001b[39m \u001b[39mself\u001b[39m\u001b[39m.\u001b[39mdataset[possibly_batched_index]\n",
      "File \u001b[0;32m~/inzynierka/pose-gnn/dataset.py:221\u001b[0m, in \u001b[0;36mMultipleSequenceGraphDataset.__getitem__\u001b[0;34m(self, index)\u001b[0m\n\u001b[1;32m    219\u001b[0m     index \u001b[39m-\u001b[39m\u001b[39m=\u001b[39m \u001b[39mlen\u001b[39m(\u001b[39mself\u001b[39m\u001b[39m.\u001b[39mdatasets[dataset_index])\n\u001b[1;32m    220\u001b[0m     dataset_index \u001b[39m+\u001b[39m\u001b[39m=\u001b[39m \u001b[39m1\u001b[39m\n\u001b[0;32m--> 221\u001b[0m \u001b[39mreturn\u001b[39;00m \u001b[39mself\u001b[39;49m\u001b[39m.\u001b[39;49mdatasets[dataset_index][index]\n",
      "File \u001b[0;32m~/inzynierka/pose-gnn/dataset.py:173\u001b[0m, in \u001b[0;36mKittiGraphDatasetWithGraphBasedOnVectorDistance.__getitem__\u001b[0;34m(self, index)\u001b[0m\n\u001b[1;32m    170\u001b[0m nodes\u001b[39m.\u001b[39mappend(first_node)\n\u001b[1;32m    171\u001b[0m y\u001b[39m.\u001b[39mappend(first_label)\n\u001b[0;32m--> 173\u001b[0m closest_indices \u001b[39m=\u001b[39m \u001b[39mself\u001b[39;49m\u001b[39m.\u001b[39;49mdataset\u001b[39m.\u001b[39;49mfind_closest_to(index, \u001b[39mself\u001b[39;49m\u001b[39m.\u001b[39;49mgraph_length \u001b[39m-\u001b[39;49m \u001b[39m1\u001b[39;49m)\n\u001b[1;32m    174\u001b[0m \u001b[39mfor\u001b[39;00m i \u001b[39min\u001b[39;00m closest_indices:\n\u001b[1;32m    175\u001b[0m     node, label \u001b[39m=\u001b[39m \u001b[39mself\u001b[39m\u001b[39m.\u001b[39mdataset[i]\n",
      "File \u001b[0;32m~/inzynierka/pose-gnn/dataset.py:92\u001b[0m, in \u001b[0;36mKittiSequenceDataset.find_closest_to\u001b[0;34m(self, index, N)\u001b[0m\n\u001b[1;32m     89\u001b[0m     \u001b[39mreturn\u001b[39;00m np\u001b[39m.\u001b[39mlinalg\u001b[39m.\u001b[39mnorm(a \u001b[39m-\u001b[39m b)\n\u001b[1;32m     91\u001b[0m features \u001b[39m=\u001b[39m \u001b[39mself\u001b[39m\u001b[39m.\u001b[39mfeatures\n\u001b[0;32m---> 92\u001b[0m distances \u001b[39m=\u001b[39m [\n\u001b[1;32m     93\u001b[0m     distance(features[index], features[i]) \u001b[39mfor\u001b[39;49;00m i \u001b[39min\u001b[39;49;00m \u001b[39mrange\u001b[39;49m(\u001b[39mlen\u001b[39;49m(features))\n\u001b[1;32m     94\u001b[0m ]\n\u001b[1;32m     95\u001b[0m sorted_indices \u001b[39m=\u001b[39m np\u001b[39m.\u001b[39margsort(distances)\n\u001b[1;32m     96\u001b[0m \u001b[39mreturn\u001b[39;00m sorted_indices[\u001b[39m1\u001b[39m : N \u001b[39m+\u001b[39m \u001b[39m1\u001b[39m]\n",
      "File \u001b[0;32m~/inzynierka/pose-gnn/dataset.py:93\u001b[0m, in \u001b[0;36m<listcomp>\u001b[0;34m(.0)\u001b[0m\n\u001b[1;32m     89\u001b[0m     \u001b[39mreturn\u001b[39;00m np\u001b[39m.\u001b[39mlinalg\u001b[39m.\u001b[39mnorm(a \u001b[39m-\u001b[39m b)\n\u001b[1;32m     91\u001b[0m features \u001b[39m=\u001b[39m \u001b[39mself\u001b[39m\u001b[39m.\u001b[39mfeatures\n\u001b[1;32m     92\u001b[0m distances \u001b[39m=\u001b[39m [\n\u001b[0;32m---> 93\u001b[0m     distance(features[index], features[i]) \u001b[39mfor\u001b[39;00m i \u001b[39min\u001b[39;00m \u001b[39mrange\u001b[39m(\u001b[39mlen\u001b[39m(features))\n\u001b[1;32m     94\u001b[0m ]\n\u001b[1;32m     95\u001b[0m sorted_indices \u001b[39m=\u001b[39m np\u001b[39m.\u001b[39margsort(distances)\n\u001b[1;32m     96\u001b[0m \u001b[39mreturn\u001b[39;00m sorted_indices[\u001b[39m1\u001b[39m : N \u001b[39m+\u001b[39m \u001b[39m1\u001b[39m]\n",
      "File \u001b[0;32m~/inzynierka/pose-gnn/dataset.py:89\u001b[0m, in \u001b[0;36mKittiSequenceDataset.find_closest_to.<locals>.distance\u001b[0;34m(a, b)\u001b[0m\n\u001b[1;32m     88\u001b[0m \u001b[39mdef\u001b[39;00m \u001b[39mdistance\u001b[39m(a, b):\n\u001b[0;32m---> 89\u001b[0m     \u001b[39mreturn\u001b[39;00m np\u001b[39m.\u001b[39;49mlinalg\u001b[39m.\u001b[39;49mnorm(a \u001b[39m-\u001b[39;49m b)\n",
      "File \u001b[0;32m/usr/lib/python3.11/site-packages/numpy/linalg/linalg.py:2553\u001b[0m, in \u001b[0;36mnorm\u001b[0;34m(x, ord, axis, keepdims)\u001b[0m\n\u001b[1;32m   2551\u001b[0m \u001b[39melse\u001b[39;00m:\n\u001b[1;32m   2552\u001b[0m     sqnorm \u001b[39m=\u001b[39m x\u001b[39m.\u001b[39mdot(x)\n\u001b[0;32m-> 2553\u001b[0m ret \u001b[39m=\u001b[39m sqrt(sqnorm)\n\u001b[1;32m   2554\u001b[0m \u001b[39mif\u001b[39;00m keepdims:\n\u001b[1;32m   2555\u001b[0m     ret \u001b[39m=\u001b[39m ret\u001b[39m.\u001b[39mreshape(ndim\u001b[39m*\u001b[39m[\u001b[39m1\u001b[39m])\n",
      "\u001b[0;31mKeyboardInterrupt\u001b[0m: "
     ]
    }
   ],
   "source": [
    "optimizer = torch.optim.NAdam(model.parameters(), lr=0.001)\n",
    "MODEL_LETTER = \"LINALG_DISTANCE\"\n",
    "\n",
    "os.makedirs(f\"models/{MODEL_LETTER}\", exist_ok=True)\n",
    "\n",
    "loss_history = []\n",
    "for epoch in range(1, 151):\n",
    "    model.train()\n",
    "    epoch_loss_history = []\n",
    "    progress_bar = tqdm(\n",
    "        train_dataloader, desc=f\"Epoch {epoch}\", total=len(train_dataloader)\n",
    "    )\n",
    "    for batch in progress_bar:\n",
    "        batch = batch.to(device)\n",
    "        optimizer.zero_grad()\n",
    "        output = model(batch)\n",
    "        loss = criterion(output, batch.y)\n",
    "        loss.backward()\n",
    "        optimizer.step()\n",
    "        epoch_loss_history.append(loss.item())\n",
    "        progress_bar.set_postfix({\"loss\": loss.item()})\n",
    "       \n",
    "    loss_history.append(sum(epoch_loss_history) / len(epoch_loss_history))\n",
    "    print(f\"Epoch {epoch} loss: {sum(epoch_loss_history) / len(epoch_loss_history)}\")\n",
    "\n",
    "    if epoch % 10 == 0:\n",
    "        torch.save(model.state_dict(), f\"models/{MODEL_LETTER}/model_{MODEL_LETTER}_{epoch}.pth\")\n",
    "\n",
    "torch.save(model.state_dict(), f\"models/{MODEL_LETTER}/model_{MODEL_LETTER}_final.pth\")"
   ]
  },
  {
   "cell_type": "code",
   "execution_count": null,
   "metadata": {},
   "outputs": [
    {
     "data": {
      "image/png": "[encoded data removed]",
      "text/plain": [
       "<Figure size 640x480 with 1 Axes>"
      ]
     },
     "metadata": {},
     "output_type": "display_data"
    }
   ],
   "source": [
    "# plot loss\n",
    "plt.plot(loss_history)\n",
    "plt.yscale(\"log\")\n",
    "plt.show()"
   ]
  }
 ],
 "metadata": {
  "kernelspec": {
   "display_name": "venv",
   "language": "python",
   "name": "python3"
  },
  "language_info": {
   "codemirror_mode": {
    "name": "ipython",
    "version": 3
   },
   "file_extension": ".py",
   "mimetype": "text/x-python",
   "name": "python",
   "nbconvert_exporter": "python",
   "pygments_lexer": "ipython3",
   "version": "3.11.5"
  }
 },
 "nbformat": 4,
 "nbformat_minor": 2
}
